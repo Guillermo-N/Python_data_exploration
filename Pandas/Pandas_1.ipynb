{
 "cells": [
  {
   "attachments": {},
   "cell_type": "markdown",
   "metadata": {},
   "source": [
    "# Exploring dataframe"
   ]
  },
  {
   "cell_type": "code",
   "execution_count": 31,
   "metadata": {},
   "outputs": [],
   "source": [
    "# Importing pandas\n",
    "import pandas as pd"
   ]
  },
  {
   "cell_type": "code",
   "execution_count": 32,
   "metadata": {},
   "outputs": [],
   "source": [
    "# Loading data into dataframes\n",
    "df = pd.read_excel(\"../Space_Base_Data.xlsx\", index_col='Spacecraft')"
   ]
  },
  {
   "cell_type": "code",
   "execution_count": 33,
   "metadata": {},
   "outputs": [
    {
     "data": {
      "text/plain": [
       "(329, 10)"
      ]
     },
     "execution_count": 33,
     "metadata": {},
     "output_type": "execute_result"
    }
   ],
   "source": [
    "# Dataframe dimensions\n",
    "df.shape"
   ]
  },
  {
   "cell_type": "code",
   "execution_count": 34,
   "metadata": {},
   "outputs": [
    {
     "name": "stdout",
     "output_type": "stream",
     "text": [
      "<class 'pandas.core.frame.DataFrame'>\n",
      "Index: 329 entries, Vostok 1 to SpaceX Demo-2\n",
      "Data columns (total 10 columns):\n",
      " #   Column           Non-Null Count  Dtype         \n",
      "---  ------           --------------  -----         \n",
      " 0   Vehicle          329 non-null    object        \n",
      " 1   Launch           329 non-null    datetime64[ns]\n",
      " 2   Return           328 non-null    datetime64[ns]\n",
      " 3   Mission Number   329 non-null    int64         \n",
      " 4   Status           329 non-null    object        \n",
      " 5   Earth Orbit      329 non-null    bool          \n",
      " 6   Lunar Orbit      329 non-null    bool          \n",
      " 7   Station Visited  176 non-null    object        \n",
      " 8   Destination      329 non-null    object        \n",
      " 9   Duration (days)  329 non-null    float64       \n",
      "dtypes: bool(2), datetime64[ns](2), float64(1), int64(1), object(4)\n",
      "memory usage: 23.8+ KB\n"
     ]
    }
   ],
   "source": [
    "# Information about the diferent columns\n",
    "df.info()"
   ]
  },
  {
   "cell_type": "code",
   "execution_count": 81,
   "metadata": {},
   "outputs": [],
   "source": [
    "# Setting how many rows and columns are render\n",
    "pd.set_option('display.max_rows', None)\n",
    "pd.set_option('display.max_columns', None)"
   ]
  },
  {
   "cell_type": "code",
   "execution_count": 36,
   "metadata": {},
   "outputs": [
    {
     "data": {
      "text/html": [
       "<div>\n",
       "<style scoped>\n",
       "    .dataframe tbody tr th:only-of-type {\n",
       "        vertical-align: middle;\n",
       "    }\n",
       "\n",
       "    .dataframe tbody tr th {\n",
       "        vertical-align: top;\n",
       "    }\n",
       "\n",
       "    .dataframe thead th {\n",
       "        text-align: right;\n",
       "    }\n",
       "</style>\n",
       "<table border=\"1\" class=\"dataframe\">\n",
       "  <thead>\n",
       "    <tr style=\"text-align: right;\">\n",
       "      <th></th>\n",
       "      <th>Vehicle</th>\n",
       "      <th>Launch</th>\n",
       "      <th>Return</th>\n",
       "      <th>Mission Number</th>\n",
       "      <th>Status</th>\n",
       "      <th>Earth Orbit</th>\n",
       "      <th>Lunar Orbit</th>\n",
       "      <th>Station Visited</th>\n",
       "      <th>Destination</th>\n",
       "      <th>Duration (days)</th>\n",
       "    </tr>\n",
       "    <tr>\n",
       "      <th>Spacecraft</th>\n",
       "      <th></th>\n",
       "      <th></th>\n",
       "      <th></th>\n",
       "      <th></th>\n",
       "      <th></th>\n",
       "      <th></th>\n",
       "      <th></th>\n",
       "      <th></th>\n",
       "      <th></th>\n",
       "      <th></th>\n",
       "    </tr>\n",
       "  </thead>\n",
       "  <tbody>\n",
       "    <tr>\n",
       "      <th>Vostok 1</th>\n",
       "      <td>Vostok-K</td>\n",
       "      <td>1961-04-21 06:07:00</td>\n",
       "      <td>1961-04-21 07:55:00</td>\n",
       "      <td>1</td>\n",
       "      <td>Returned</td>\n",
       "      <td>True</td>\n",
       "      <td>False</td>\n",
       "      <td>NaN</td>\n",
       "      <td>Earth Orbit</td>\n",
       "      <td>0.075000</td>\n",
       "    </tr>\n",
       "    <tr>\n",
       "      <th>Mercury-Redstone 3</th>\n",
       "      <td>Mercury-Redstone Launch Vehicle</td>\n",
       "      <td>1961-05-05 14:34:13</td>\n",
       "      <td>1961-05-05 14:49:35</td>\n",
       "      <td>2</td>\n",
       "      <td>Returned</td>\n",
       "      <td>False</td>\n",
       "      <td>False</td>\n",
       "      <td>NaN</td>\n",
       "      <td>Non-orbital space</td>\n",
       "      <td>0.010671</td>\n",
       "    </tr>\n",
       "    <tr>\n",
       "      <th>Mercury-Redstone 4</th>\n",
       "      <td>Mercury-Redstone Launch Vehicle</td>\n",
       "      <td>1961-07-21 12:20:36</td>\n",
       "      <td>1961-07-21 12:36:13</td>\n",
       "      <td>3</td>\n",
       "      <td>Returned</td>\n",
       "      <td>False</td>\n",
       "      <td>False</td>\n",
       "      <td>NaN</td>\n",
       "      <td>Non-orbital space</td>\n",
       "      <td>0.010845</td>\n",
       "    </tr>\n",
       "    <tr>\n",
       "      <th>Vostok 2</th>\n",
       "      <td>Vostok-K</td>\n",
       "      <td>1961-08-06 06:00:00</td>\n",
       "      <td>1961-08-07 07:18:00</td>\n",
       "      <td>4</td>\n",
       "      <td>Returned</td>\n",
       "      <td>True</td>\n",
       "      <td>False</td>\n",
       "      <td>NaN</td>\n",
       "      <td>Earth Orbit</td>\n",
       "      <td>1.054167</td>\n",
       "    </tr>\n",
       "    <tr>\n",
       "      <th>Mercury-Atlas 6</th>\n",
       "      <td>Atlas LV-3B</td>\n",
       "      <td>1962-02-20 14:47:39</td>\n",
       "      <td>1962-02-20 19:43:02</td>\n",
       "      <td>5</td>\n",
       "      <td>Returned</td>\n",
       "      <td>True</td>\n",
       "      <td>False</td>\n",
       "      <td>NaN</td>\n",
       "      <td>Earth Orbit</td>\n",
       "      <td>0.205127</td>\n",
       "    </tr>\n",
       "  </tbody>\n",
       "</table>\n",
       "</div>"
      ],
      "text/plain": [
       "                                            Vehicle              Launch  \\\n",
       "Spacecraft                                                                \n",
       "Vostok 1                                   Vostok-K 1961-04-21 06:07:00   \n",
       "Mercury-Redstone 3  Mercury-Redstone Launch Vehicle 1961-05-05 14:34:13   \n",
       "Mercury-Redstone 4  Mercury-Redstone Launch Vehicle 1961-07-21 12:20:36   \n",
       "Vostok 2                                   Vostok-K 1961-08-06 06:00:00   \n",
       "Mercury-Atlas 6                         Atlas LV-3B 1962-02-20 14:47:39   \n",
       "\n",
       "                                Return  Mission Number    Status  Earth Orbit  \\\n",
       "Spacecraft                                                                      \n",
       "Vostok 1           1961-04-21 07:55:00               1  Returned         True   \n",
       "Mercury-Redstone 3 1961-05-05 14:49:35               2  Returned        False   \n",
       "Mercury-Redstone 4 1961-07-21 12:36:13               3  Returned        False   \n",
       "Vostok 2           1961-08-07 07:18:00               4  Returned         True   \n",
       "Mercury-Atlas 6    1962-02-20 19:43:02               5  Returned         True   \n",
       "\n",
       "                    Lunar Orbit Station Visited        Destination  \\\n",
       "Spacecraft                                                           \n",
       "Vostok 1                  False             NaN        Earth Orbit   \n",
       "Mercury-Redstone 3        False             NaN  Non-orbital space   \n",
       "Mercury-Redstone 4        False             NaN  Non-orbital space   \n",
       "Vostok 2                  False             NaN        Earth Orbit   \n",
       "Mercury-Atlas 6           False             NaN        Earth Orbit   \n",
       "\n",
       "                    Duration (days)  \n",
       "Spacecraft                           \n",
       "Vostok 1                   0.075000  \n",
       "Mercury-Redstone 3         0.010671  \n",
       "Mercury-Redstone 4         0.010845  \n",
       "Vostok 2                   1.054167  \n",
       "Mercury-Atlas 6            0.205127  "
      ]
     },
     "execution_count": 36,
     "metadata": {},
     "output_type": "execute_result"
    }
   ],
   "source": [
    "# Showing first 5 rows for the dataframe\n",
    "df.head()"
   ]
  },
  {
   "cell_type": "code",
   "execution_count": 37,
   "metadata": {},
   "outputs": [
    {
     "data": {
      "text/plain": [
       "True     319\n",
       "False     10\n",
       "Name: Earth Orbit, dtype: int64"
      ]
     },
     "execution_count": 37,
     "metadata": {},
     "output_type": "execute_result"
    }
   ],
   "source": [
    "# Count frecuency of a specific row\n",
    "df['Earth Orbit'].value_counts()"
   ]
  },
  {
   "attachments": {},
   "cell_type": "markdown",
   "metadata": {},
   "source": [
    "# Filters"
   ]
  },
  {
   "cell_type": "code",
   "execution_count": 43,
   "metadata": {},
   "outputs": [
    {
     "data": {
      "text/plain": [
       "Spacecraft\n",
       "Apollo 8    1968-12-27 15:52:00\n",
       "Apollo 10   1969-05-26 16:52:00\n",
       "                    ...        \n",
       "Apollo 16   1972-04-27 19:45:00\n",
       "Apollo 17   1972-12-19 19:25:00\n",
       "Name: Return, Length: 9, dtype: datetime64[ns]"
      ]
     },
     "execution_count": 43,
     "metadata": {},
     "output_type": "execute_result"
    }
   ],
   "source": [
    "df[df['Destination'] == \"Moon\"]['Return']"
   ]
  },
  {
   "cell_type": "code",
   "execution_count": 99,
   "metadata": {},
   "outputs": [
    {
     "data": {
      "text/html": [
       "<div>\n",
       "<style scoped>\n",
       "    .dataframe tbody tr th:only-of-type {\n",
       "        vertical-align: middle;\n",
       "    }\n",
       "\n",
       "    .dataframe tbody tr th {\n",
       "        vertical-align: top;\n",
       "    }\n",
       "\n",
       "    .dataframe thead th {\n",
       "        text-align: right;\n",
       "    }\n",
       "</style>\n",
       "<table border=\"1\" class=\"dataframe\">\n",
       "  <thead>\n",
       "    <tr style=\"text-align: right;\">\n",
       "      <th></th>\n",
       "      <th>Return</th>\n",
       "      <th>Vehicle</th>\n",
       "    </tr>\n",
       "    <tr>\n",
       "      <th>Spacecraft</th>\n",
       "      <th></th>\n",
       "      <th></th>\n",
       "    </tr>\n",
       "  </thead>\n",
       "  <tbody>\n",
       "    <tr>\n",
       "      <th>STS-71, Atlantis</th>\n",
       "      <td>1995-07-07 14:55:19</td>\n",
       "      <td>Space Shuttle</td>\n",
       "    </tr>\n",
       "    <tr>\n",
       "      <th>STS-74, Atlantis</th>\n",
       "      <td>1995-11-20 17:02:43</td>\n",
       "      <td>Space Shuttle</td>\n",
       "    </tr>\n",
       "    <tr>\n",
       "      <th>STS-76, Atlantis</th>\n",
       "      <td>1996-03-31 13:30:04</td>\n",
       "      <td>Space Shuttle</td>\n",
       "    </tr>\n",
       "    <tr>\n",
       "      <th>STS-79, Atlantis</th>\n",
       "      <td>1996-09-26 12:14:49</td>\n",
       "      <td>Space Shuttle</td>\n",
       "    </tr>\n",
       "    <tr>\n",
       "      <th>STS-81, Atlantis</th>\n",
       "      <td>1997-01-22 14:23:23</td>\n",
       "      <td>Space Shuttle</td>\n",
       "    </tr>\n",
       "    <tr>\n",
       "      <th>STS-84, Atlantis</th>\n",
       "      <td>1997-05-24 13:28:48</td>\n",
       "      <td>Space Shuttle</td>\n",
       "    </tr>\n",
       "    <tr>\n",
       "      <th>STS-86, Atlantis</th>\n",
       "      <td>1997-10-06 09:56:19</td>\n",
       "      <td>Space Shuttle</td>\n",
       "    </tr>\n",
       "    <tr>\n",
       "      <th>STS-89, Endeavour</th>\n",
       "      <td>1998-01-31 22:36:15</td>\n",
       "      <td>Space Shuttle</td>\n",
       "    </tr>\n",
       "    <tr>\n",
       "      <th>STS-91, Discovery</th>\n",
       "      <td>1998-06-12 18:01:24</td>\n",
       "      <td>Space Shuttle</td>\n",
       "    </tr>\n",
       "  </tbody>\n",
       "</table>\n",
       "</div>"
      ],
      "text/plain": [
       "                               Return        Vehicle\n",
       "Spacecraft                                          \n",
       "STS-71, Atlantis  1995-07-07 14:55:19  Space Shuttle\n",
       "STS-74, Atlantis  1995-11-20 17:02:43  Space Shuttle\n",
       "STS-76, Atlantis  1996-03-31 13:30:04  Space Shuttle\n",
       "STS-79, Atlantis  1996-09-26 12:14:49  Space Shuttle\n",
       "STS-81, Atlantis  1997-01-22 14:23:23  Space Shuttle\n",
       "STS-84, Atlantis  1997-05-24 13:28:48  Space Shuttle\n",
       "STS-86, Atlantis  1997-10-06 09:56:19  Space Shuttle\n",
       "STS-89, Endeavour 1998-01-31 22:36:15  Space Shuttle\n",
       "STS-91, Discovery 1998-06-12 18:01:24  Space Shuttle"
      ]
     },
     "execution_count": 99,
     "metadata": {},
     "output_type": "execute_result"
    }
   ],
   "source": [
    "filt = ((df['Destination'] == \"Mir\") & ((df['Vehicle'] != 'Soyuz-U') & (df['Vehicle'] != 'Soyuz-U2')))\n",
    "df.loc[filt, ['Return', 'Vehicle']]"
   ]
  },
  {
   "cell_type": "code",
   "execution_count": 102,
   "metadata": {},
   "outputs": [
    {
     "data": {
      "text/html": [
       "<div>\n",
       "<style scoped>\n",
       "    .dataframe tbody tr th:only-of-type {\n",
       "        vertical-align: middle;\n",
       "    }\n",
       "\n",
       "    .dataframe tbody tr th {\n",
       "        vertical-align: top;\n",
       "    }\n",
       "\n",
       "    .dataframe thead th {\n",
       "        text-align: right;\n",
       "    }\n",
       "</style>\n",
       "<table border=\"1\" class=\"dataframe\">\n",
       "  <thead>\n",
       "    <tr style=\"text-align: right;\">\n",
       "      <th></th>\n",
       "      <th>Return</th>\n",
       "      <th>Vehicle</th>\n",
       "    </tr>\n",
       "    <tr>\n",
       "      <th>Spacecraft</th>\n",
       "      <th></th>\n",
       "      <th></th>\n",
       "    </tr>\n",
       "  </thead>\n",
       "  <tbody>\n",
       "    <tr>\n",
       "      <th>Vostok 1</th>\n",
       "      <td>1961-04-21 07:55:00</td>\n",
       "      <td>Vostok-K</td>\n",
       "    </tr>\n",
       "    <tr>\n",
       "      <th>Mercury-Redstone 3</th>\n",
       "      <td>1961-05-05 14:49:35</td>\n",
       "      <td>Mercury-Redstone Launch Vehicle</td>\n",
       "    </tr>\n",
       "    <tr>\n",
       "      <th>Mercury-Redstone 4</th>\n",
       "      <td>1961-07-21 12:36:13</td>\n",
       "      <td>Mercury-Redstone Launch Vehicle</td>\n",
       "    </tr>\n",
       "    <tr>\n",
       "      <th>Vostok 2</th>\n",
       "      <td>1961-08-07 07:18:00</td>\n",
       "      <td>Vostok-K</td>\n",
       "    </tr>\n",
       "    <tr>\n",
       "      <th>Mercury-Atlas 6</th>\n",
       "      <td>1962-02-20 19:43:02</td>\n",
       "      <td>Atlas LV-3B</td>\n",
       "    </tr>\n",
       "  </tbody>\n",
       "</table>\n",
       "</div>"
      ],
      "text/plain": [
       "                                Return                          Vehicle\n",
       "Spacecraft                                                             \n",
       "Vostok 1           1961-04-21 07:55:00                         Vostok-K\n",
       "Mercury-Redstone 3 1961-05-05 14:49:35  Mercury-Redstone Launch Vehicle\n",
       "Mercury-Redstone 4 1961-07-21 12:36:13  Mercury-Redstone Launch Vehicle\n",
       "Vostok 2           1961-08-07 07:18:00                         Vostok-K\n",
       "Mercury-Atlas 6    1962-02-20 19:43:02                      Atlas LV-3B"
      ]
     },
     "execution_count": 102,
     "metadata": {},
     "output_type": "execute_result"
    }
   ],
   "source": [
    "# Tilde to denotate the opposite of the filter\n",
    "df.loc[~filt, ['Return', 'Vehicle']].head()"
   ]
  },
  {
   "cell_type": "code",
   "execution_count": 110,
   "metadata": {},
   "outputs": [
    {
     "data": {
      "text/plain": [
       "Spacecraft\n",
       "Vostok 1                   False\n",
       "Mercury-Redstone 3         False\n",
       "Mercury-Redstone 4         False\n",
       "Mercury-Atlas 6            False\n",
       "Mercury-Atlas 7            False\n",
       "Mercury-Atlas 8            False\n",
       "X-15, Flight 90            False\n",
       "X-15, Flight 91            False\n",
       "Gemini 3                   False\n",
       "Gemini 8                   False\n",
       "Soyuz 18A                  False\n",
       "51-L, Challenger           False\n",
       "Shenzhou 5                 False\n",
       "SpaceShipOne, Flight 15     True\n",
       "SpaceShipOne, Flight 16     True\n",
       "SpaceShipOne, Flight 17     True\n",
       "Soyuz MS-10                False\n",
       "Name: Vehicle, dtype: bool"
      ]
     },
     "execution_count": 110,
     "metadata": {},
     "output_type": "execute_result"
    }
   ],
   "source": [
    "df[df['Duration (days)'] < 1]['Vehicle'].isin(['Gemini 3', 'SpaceShipOne'])"
   ]
  }
 ],
 "metadata": {
  "kernelspec": {
   "display_name": "base",
   "language": "python",
   "name": "python3"
  },
  "language_info": {
   "codemirror_mode": {
    "name": "ipython",
    "version": 3
   },
   "file_extension": ".py",
   "mimetype": "text/x-python",
   "name": "python",
   "nbconvert_exporter": "python",
   "pygments_lexer": "ipython3",
   "version": "3.9.13"
  },
  "orig_nbformat": 4
 },
 "nbformat": 4,
 "nbformat_minor": 2
}
