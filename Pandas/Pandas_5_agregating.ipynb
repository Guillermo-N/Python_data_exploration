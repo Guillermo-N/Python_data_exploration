{
 "cells": [
  {
   "attachments": {},
   "cell_type": "markdown",
   "metadata": {},
   "source": [
    "# Pandas agretation operations"
   ]
  },
  {
   "cell_type": "code",
   "execution_count": 39,
   "metadata": {},
   "outputs": [],
   "source": [
    "import pandas as pd"
   ]
  },
  {
   "cell_type": "code",
   "execution_count": 40,
   "metadata": {},
   "outputs": [],
   "source": [
    "df = pd.read_excel('../Data/Space_Base_Data.xlsx', sheet_name='Space Vehicles')\n",
    "pd.set_option('display.max_rows', None)\n",
    "pd.set_option('display.max_columns', None)"
   ]
  },
  {
   "attachments": {},
   "cell_type": "markdown",
   "metadata": {},
   "source": [
    "## Median"
   ]
  },
  {
   "cell_type": "code",
   "execution_count": 41,
   "metadata": {},
   "outputs": [
    {
     "data": {
      "text/plain": [
       "249350.0"
      ]
     },
     "execution_count": 41,
     "metadata": {},
     "output_type": "execute_result"
    }
   ],
   "source": [
    "df['Liftoff Mass'].median()"
   ]
  },
  {
   "cell_type": "code",
   "execution_count": 42,
   "metadata": {},
   "outputs": [
    {
     "data": {
      "text/plain": [
       "LEO Payload           4560.0\n",
       "GTO payload           2810.0\n",
       "TLI/Mars payload      3550.0\n",
       "Liftoff Height          42.0\n",
       "Liftoff Mass        249350.0\n",
       "dtype: float64"
      ]
     },
     "execution_count": 42,
     "metadata": {},
     "output_type": "execute_result"
    }
   ],
   "source": [
    "df.median(numeric_only=True).head()"
   ]
  },
  {
   "attachments": {},
   "cell_type": "markdown",
   "metadata": {},
   "source": [
    "## Describe"
   ]
  },
  {
   "cell_type": "code",
   "execution_count": 43,
   "metadata": {},
   "outputs": [
    {
     "data": {
      "text/html": [
       "<div>\n",
       "<style scoped>\n",
       "    .dataframe tbody tr th:only-of-type {\n",
       "        vertical-align: middle;\n",
       "    }\n",
       "\n",
       "    .dataframe tbody tr th {\n",
       "        vertical-align: top;\n",
       "    }\n",
       "\n",
       "    .dataframe thead th {\n",
       "        text-align: right;\n",
       "    }\n",
       "</style>\n",
       "<table border=\"1\" class=\"dataframe\">\n",
       "  <thead>\n",
       "    <tr style=\"text-align: right;\">\n",
       "      <th></th>\n",
       "      <th>LEO Payload</th>\n",
       "      <th>GTO payload</th>\n",
       "      <th>TLI/Mars payload</th>\n",
       "      <th>Liftoff Height</th>\n",
       "      <th>Liftoff Mass</th>\n",
       "      <th>Successful flights</th>\n",
       "      <th>Total flights</th>\n",
       "    </tr>\n",
       "  </thead>\n",
       "  <tbody>\n",
       "    <tr>\n",
       "      <th>count</th>\n",
       "      <td>188.000000</td>\n",
       "      <td>120.000000</td>\n",
       "      <td>5.000000</td>\n",
       "      <td>199.000000</td>\n",
       "      <td>2.000000e+02</td>\n",
       "      <td>202.000000</td>\n",
       "      <td>202.000000</td>\n",
       "    </tr>\n",
       "    <tr>\n",
       "      <th>mean</th>\n",
       "      <td>9533.922074</td>\n",
       "      <td>3759.575000</td>\n",
       "      <td>26368.000000</td>\n",
       "      <td>41.250025</td>\n",
       "      <td>3.242253e+05</td>\n",
       "      <td>25.079208</td>\n",
       "      <td>27.059406</td>\n",
       "    </tr>\n",
       "    <tr>\n",
       "      <th>std</th>\n",
       "      <td>24967.124983</td>\n",
       "      <td>3603.029042</td>\n",
       "      <td>45549.274089</td>\n",
       "      <td>16.513044</td>\n",
       "      <td>3.939500e+05</td>\n",
       "      <td>72.459243</td>\n",
       "      <td>75.539166</td>\n",
       "    </tr>\n",
       "    <tr>\n",
       "      <th>min</th>\n",
       "      <td>1.050000</td>\n",
       "      <td>73.000000</td>\n",
       "      <td>1740.000000</td>\n",
       "      <td>4.400000</td>\n",
       "      <td>9.500000e+02</td>\n",
       "      <td>0.000000</td>\n",
       "      <td>1.000000</td>\n",
       "    </tr>\n",
       "    <tr>\n",
       "      <th>25%</th>\n",
       "      <td>1390.000000</td>\n",
       "      <td>1237.500000</td>\n",
       "      <td>2650.000000</td>\n",
       "      <td>28.650000</td>\n",
       "      <td>1.026000e+05</td>\n",
       "      <td>2.000000</td>\n",
       "      <td>3.000000</td>\n",
       "    </tr>\n",
       "    <tr>\n",
       "      <th>50%</th>\n",
       "      <td>4560.000000</td>\n",
       "      <td>2810.000000</td>\n",
       "      <td>3550.000000</td>\n",
       "      <td>42.000000</td>\n",
       "      <td>2.493500e+05</td>\n",
       "      <td>6.000000</td>\n",
       "      <td>7.000000</td>\n",
       "    </tr>\n",
       "    <tr>\n",
       "      <th>75%</th>\n",
       "      <td>10337.500000</td>\n",
       "      <td>5197.500000</td>\n",
       "      <td>16800.000000</td>\n",
       "      <td>53.000000</td>\n",
       "      <td>4.147500e+05</td>\n",
       "      <td>15.000000</td>\n",
       "      <td>15.750000</td>\n",
       "    </tr>\n",
       "    <tr>\n",
       "      <th>max</th>\n",
       "      <td>310000.000000</td>\n",
       "      <td>26700.000000</td>\n",
       "      <td>107100.000000</td>\n",
       "      <td>110.600000</td>\n",
       "      <td>2.970000e+06</td>\n",
       "      <td>765.000000</td>\n",
       "      <td>786.000000</td>\n",
       "    </tr>\n",
       "  </tbody>\n",
       "</table>\n",
       "</div>"
      ],
      "text/plain": [
       "         LEO Payload   GTO payload  TLI/Mars payload  Liftoff Height  \\\n",
       "count     188.000000    120.000000          5.000000      199.000000   \n",
       "mean     9533.922074   3759.575000      26368.000000       41.250025   \n",
       "std     24967.124983   3603.029042      45549.274089       16.513044   \n",
       "min         1.050000     73.000000       1740.000000        4.400000   \n",
       "25%      1390.000000   1237.500000       2650.000000       28.650000   \n",
       "50%      4560.000000   2810.000000       3550.000000       42.000000   \n",
       "75%     10337.500000   5197.500000      16800.000000       53.000000   \n",
       "max    310000.000000  26700.000000     107100.000000      110.600000   \n",
       "\n",
       "       Liftoff Mass  Successful flights  Total flights  \n",
       "count  2.000000e+02          202.000000     202.000000  \n",
       "mean   3.242253e+05           25.079208      27.059406  \n",
       "std    3.939500e+05           72.459243      75.539166  \n",
       "min    9.500000e+02            0.000000       1.000000  \n",
       "25%    1.026000e+05            2.000000       3.000000  \n",
       "50%    2.493500e+05            6.000000       7.000000  \n",
       "75%    4.147500e+05           15.000000      15.750000  \n",
       "max    2.970000e+06          765.000000     786.000000  "
      ]
     },
     "execution_count": 43,
     "metadata": {},
     "output_type": "execute_result"
    }
   ],
   "source": [
    "df.describe()"
   ]
  },
  {
   "attachments": {},
   "cell_type": "markdown",
   "metadata": {},
   "source": [
    "## Counts"
   ]
  },
  {
   "cell_type": "code",
   "execution_count": 44,
   "metadata": {},
   "outputs": [
    {
     "data": {
      "text/plain": [
       "RETIRED    141\n",
       "ACTIVE      61\n",
       "Name: Active, dtype: int64"
      ]
     },
     "execution_count": 44,
     "metadata": {},
     "output_type": "execute_result"
    }
   ],
   "source": [
    "df['Active'].value_counts()"
   ]
  },
  {
   "cell_type": "code",
   "execution_count": 45,
   "metadata": {},
   "outputs": [
    {
     "data": {
      "text/plain": [
       "RETIRED    0.69802\n",
       "ACTIVE     0.30198\n",
       "Name: Active, dtype: float64"
      ]
     },
     "execution_count": 45,
     "metadata": {},
     "output_type": "execute_result"
    }
   ],
   "source": [
    "# Normalize argument returns the percentages of the counts\n",
    "df['Active'].value_counts(normalize=True)"
   ]
  },
  {
   "attachments": {},
   "cell_type": "markdown",
   "metadata": {},
   "source": [
    "## Groupby"
   ]
  },
  {
   "cell_type": "code",
   "execution_count": 46,
   "metadata": {},
   "outputs": [
    {
     "data": {
      "text/plain": [
       "Class\n",
       "MLV     111\n",
       "SLV      61\n",
       "---      14\n",
       "HLV      12\n",
       "SHLV      4\n",
       "dtype: int64"
      ]
     },
     "execution_count": 46,
     "metadata": {},
     "output_type": "execute_result"
    }
   ],
   "source": [
    "df.value_counts('Class')"
   ]
  },
  {
   "cell_type": "code",
   "execution_count": 50,
   "metadata": {},
   "outputs": [],
   "source": [
    "class_gp = df.groupby('Country')"
   ]
  },
  {
   "cell_type": "code",
   "execution_count": 58,
   "metadata": {},
   "outputs": [
    {
     "data": {
      "text/html": [
       "<div>\n",
       "<style scoped>\n",
       "    .dataframe tbody tr th:only-of-type {\n",
       "        vertical-align: middle;\n",
       "    }\n",
       "\n",
       "    .dataframe tbody tr th {\n",
       "        vertical-align: top;\n",
       "    }\n",
       "\n",
       "    .dataframe thead th {\n",
       "        text-align: right;\n",
       "    }\n",
       "</style>\n",
       "<table border=\"1\" class=\"dataframe\">\n",
       "  <thead>\n",
       "    <tr style=\"text-align: right;\">\n",
       "      <th></th>\n",
       "      <th>Rocket</th>\n",
       "      <th>Active</th>\n",
       "      <th>Country</th>\n",
       "      <th>LEO Payload</th>\n",
       "      <th>GTO payload</th>\n",
       "      <th>TLI/Mars payload</th>\n",
       "      <th>Liftoff Height</th>\n",
       "      <th>Liftoff Mass</th>\n",
       "      <th>Successful flights</th>\n",
       "      <th>Total flights</th>\n",
       "      <th>First launch</th>\n",
       "      <th>Last launch</th>\n",
       "      <th>Class</th>\n",
       "      <th>Carried Crews</th>\n",
       "    </tr>\n",
       "  </thead>\n",
       "  <tbody>\n",
       "    <tr>\n",
       "      <th>44</th>\n",
       "      <td>Black Arrow</td>\n",
       "      <td>RETIRED</td>\n",
       "      <td>United Kingdom</td>\n",
       "      <td>135.0</td>\n",
       "      <td>NaN</td>\n",
       "      <td>NaN</td>\n",
       "      <td>13.0</td>\n",
       "      <td>18130.0</td>\n",
       "      <td>2</td>\n",
       "      <td>4</td>\n",
       "      <td>1969-06-27</td>\n",
       "      <td>1971-10-28</td>\n",
       "      <td>SLV</td>\n",
       "      <td>False</td>\n",
       "    </tr>\n",
       "  </tbody>\n",
       "</table>\n",
       "</div>"
      ],
      "text/plain": [
       "         Rocket   Active         Country  LEO Payload  GTO payload  \\\n",
       "44  Black Arrow  RETIRED  United Kingdom        135.0          NaN   \n",
       "\n",
       "    TLI/Mars payload  Liftoff Height  Liftoff Mass  Successful flights  \\\n",
       "44               NaN            13.0       18130.0                   2   \n",
       "\n",
       "    Total flights First launch Last launch Class  Carried Crews  \n",
       "44              4   1969-06-27  1971-10-28   SLV          False  "
      ]
     },
     "execution_count": 58,
     "metadata": {},
     "output_type": "execute_result"
    }
   ],
   "source": [
    "class_gp.get_group('United Kingdom')"
   ]
  },
  {
   "cell_type": "code",
   "execution_count": 59,
   "metadata": {},
   "outputs": [
    {
     "data": {
      "text/html": [
       "<div>\n",
       "<style scoped>\n",
       "    .dataframe tbody tr th:only-of-type {\n",
       "        vertical-align: middle;\n",
       "    }\n",
       "\n",
       "    .dataframe tbody tr th {\n",
       "        vertical-align: top;\n",
       "    }\n",
       "\n",
       "    .dataframe thead th {\n",
       "        text-align: right;\n",
       "    }\n",
       "</style>\n",
       "<table border=\"1\" class=\"dataframe\">\n",
       "  <thead>\n",
       "    <tr style=\"text-align: right;\">\n",
       "      <th></th>\n",
       "      <th>Rocket</th>\n",
       "      <th>Active</th>\n",
       "      <th>Country</th>\n",
       "      <th>LEO Payload</th>\n",
       "      <th>GTO payload</th>\n",
       "      <th>TLI/Mars payload</th>\n",
       "      <th>Liftoff Height</th>\n",
       "      <th>Liftoff Mass</th>\n",
       "      <th>Successful flights</th>\n",
       "      <th>Total flights</th>\n",
       "      <th>First launch</th>\n",
       "      <th>Last launch</th>\n",
       "      <th>Class</th>\n",
       "      <th>Carried Crews</th>\n",
       "    </tr>\n",
       "  </thead>\n",
       "  <tbody>\n",
       "    <tr>\n",
       "      <th>44</th>\n",
       "      <td>Black Arrow</td>\n",
       "      <td>RETIRED</td>\n",
       "      <td>United Kingdom</td>\n",
       "      <td>135.0</td>\n",
       "      <td>NaN</td>\n",
       "      <td>NaN</td>\n",
       "      <td>13.0</td>\n",
       "      <td>18130.0</td>\n",
       "      <td>2</td>\n",
       "      <td>4</td>\n",
       "      <td>1969-06-27</td>\n",
       "      <td>1971-10-28</td>\n",
       "      <td>SLV</td>\n",
       "      <td>False</td>\n",
       "    </tr>\n",
       "  </tbody>\n",
       "</table>\n",
       "</div>"
      ],
      "text/plain": [
       "         Rocket   Active         Country  LEO Payload  GTO payload  \\\n",
       "44  Black Arrow  RETIRED  United Kingdom        135.0          NaN   \n",
       "\n",
       "    TLI/Mars payload  Liftoff Height  Liftoff Mass  Successful flights  \\\n",
       "44               NaN            13.0       18130.0                   2   \n",
       "\n",
       "    Total flights First launch Last launch Class  Carried Crews  \n",
       "44              4   1969-06-27  1971-10-28   SLV          False  "
      ]
     },
     "execution_count": 59,
     "metadata": {},
     "output_type": "execute_result"
    }
   ],
   "source": [
    "# You can also use the following to obtain the same result\n",
    "filt = df['Country'] == 'United Kingdom'\n",
    "df.loc[filt]"
   ]
  },
  {
   "cell_type": "code",
   "execution_count": 63,
   "metadata": {},
   "outputs": [
    {
     "data": {
      "text/plain": [
       "Country         Class\n",
       "Brazil          SLV      1.000000\n",
       "China           MLV      0.500000\n",
       "                SLV      0.400000\n",
       "                HLV      0.066667\n",
       "                ---      0.033333\n",
       "Europe          MLV      0.600000\n",
       "                ---      0.133333\n",
       "                HLV      0.133333\n",
       "                SLV      0.133333\n",
       "France          SLV      1.000000\n",
       "India           MLV      0.800000\n",
       "                SLV      0.200000\n",
       "Iran            SLV      1.000000\n",
       "Israel          SLV      1.000000\n",
       "Japan           SLV      0.578947\n",
       "                MLV      0.421053\n",
       "New Zealand     SLV      1.000000\n",
       "North Korea     SLV      1.000000\n",
       "Russia          MLV      0.588235\n",
       "                SLV      0.294118\n",
       "                HLV      0.058824\n",
       "                SHLV     0.058824\n",
       "South Korea     SLV      1.000000\n",
       "Ukraine         MLV      0.750000\n",
       "                ---      0.250000\n",
       "United Kingdom  SLV      1.000000\n",
       "United States   MLV      0.600000\n",
       "                SLV      0.173333\n",
       "                ---      0.120000\n",
       "                HLV      0.080000\n",
       "                SHLV     0.026667\n",
       "Name: Class, dtype: float64"
      ]
     },
     "execution_count": 63,
     "metadata": {},
     "output_type": "execute_result"
    }
   ],
   "source": [
    "class_gp['Class'].value_counts(normalize=True)"
   ]
  },
  {
   "cell_type": "code",
   "execution_count": 65,
   "metadata": {},
   "outputs": [
    {
     "data": {
      "text/html": [
       "<div>\n",
       "<style scoped>\n",
       "    .dataframe tbody tr th:only-of-type {\n",
       "        vertical-align: middle;\n",
       "    }\n",
       "\n",
       "    .dataframe tbody tr th {\n",
       "        vertical-align: top;\n",
       "    }\n",
       "\n",
       "    .dataframe thead th {\n",
       "        text-align: right;\n",
       "    }\n",
       "</style>\n",
       "<table border=\"1\" class=\"dataframe\">\n",
       "  <thead>\n",
       "    <tr style=\"text-align: right;\">\n",
       "      <th></th>\n",
       "      <th>median</th>\n",
       "      <th>mean</th>\n",
       "    </tr>\n",
       "    <tr>\n",
       "      <th>Country</th>\n",
       "      <th></th>\n",
       "      <th></th>\n",
       "    </tr>\n",
       "  </thead>\n",
       "  <tbody>\n",
       "    <tr>\n",
       "      <th>Brazil</th>\n",
       "      <td>50700.0</td>\n",
       "      <td>50700.000000</td>\n",
       "    </tr>\n",
       "    <tr>\n",
       "      <th>China</th>\n",
       "      <td>218125.0</td>\n",
       "      <td>251155.066667</td>\n",
       "    </tr>\n",
       "  </tbody>\n",
       "</table>\n",
       "</div>"
      ],
      "text/plain": [
       "           median           mean\n",
       "Country                         \n",
       "Brazil    50700.0   50700.000000\n",
       "China    218125.0  251155.066667"
      ]
     },
     "execution_count": 65,
     "metadata": {},
     "output_type": "execute_result"
    }
   ],
   "source": [
    "class_gp['Liftoff Mass'].agg(['median', 'mean']).loc[['Brazil', 'China']]"
   ]
  }
 ],
 "metadata": {
  "kernelspec": {
   "display_name": "base",
   "language": "python",
   "name": "python3"
  },
  "language_info": {
   "codemirror_mode": {
    "name": "ipython",
    "version": 3
   },
   "file_extension": ".py",
   "mimetype": "text/x-python",
   "name": "python",
   "nbconvert_exporter": "python",
   "pygments_lexer": "ipython3",
   "version": "3.9.13"
  },
  "orig_nbformat": 4
 },
 "nbformat": 4,
 "nbformat_minor": 2
}
